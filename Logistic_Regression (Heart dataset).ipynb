{
  "nbformat": 4,
  "nbformat_minor": 0,
  "metadata": {
    "colab": {
      "provenance": [],
      "authorship_tag": "ABX9TyM6o+rjtc5YkYZ+s+NuHU13",
      "include_colab_link": true
    },
    "kernelspec": {
      "name": "python3",
      "display_name": "Python 3"
    },
    "language_info": {
      "name": "python"
    }
  },
  "cells": [
    {
      "cell_type": "markdown",
      "metadata": {
        "id": "view-in-github",
        "colab_type": "text"
      },
      "source": [
        "<a href=\"https://colab.research.google.com/github/phongidoit/Machine-learning-but-from-ground-up/blob/main/Logistic_Regression%20(Heart%20dataset).ipynb\" target=\"_parent\"><img src=\"https://colab.research.google.com/assets/colab-badge.svg\" alt=\"Open In Colab\"/></a>"
      ]
    },
    {
      "cell_type": "code",
      "source": [
        "from google.colab import drive\n",
        "drive.mount('/content/drive')"
      ],
      "metadata": {
        "colab": {
          "base_uri": "https://localhost:8080/"
        },
        "id": "_mqPMDvQvKSN",
        "outputId": "f5320328-5a55-43aa-c302-cebbbfff08a2"
      },
      "execution_count": 45,
      "outputs": [
        {
          "output_type": "stream",
          "name": "stdout",
          "text": [
            "Drive already mounted at /content/drive; to attempt to forcibly remount, call drive.mount(\"/content/drive\", force_remount=True).\n"
          ]
        }
      ]
    },
    {
      "cell_type": "code",
      "execution_count": 46,
      "metadata": {
        "colab": {
          "base_uri": "https://localhost:8080/"
        },
        "id": "EVFxxUYh3yUO",
        "outputId": "18525554-a648-4f8e-d425-f8a342e5a907"
      },
      "outputs": [
        {
          "output_type": "stream",
          "name": "stdout",
          "text": [
            "(1025, 13)\n",
            "1    526\n",
            "0    499\n",
            "Name: target, dtype: int64\n"
          ]
        }
      ],
      "source": [
        "path='/content/drive/MyDrive/heart.csv'\n",
        "import pandas as pd\n",
        "file= pd.read_csv(path)\n",
        "\n",
        "y=file.pop('target')\n",
        "print(file.shape)\n",
        "print(y.value_counts())\n"
      ]
    },
    {
      "cell_type": "code",
      "source": [
        "file.info()\n",
        "#result show no missing data, good!"
      ],
      "metadata": {
        "colab": {
          "base_uri": "https://localhost:8080/"
        },
        "id": "CDGIe9NyqMuq",
        "outputId": "85815297-1821-4903-de99-f12f516f339f"
      },
      "execution_count": 47,
      "outputs": [
        {
          "output_type": "stream",
          "name": "stdout",
          "text": [
            "<class 'pandas.core.frame.DataFrame'>\n",
            "RangeIndex: 1025 entries, 0 to 1024\n",
            "Data columns (total 13 columns):\n",
            " #   Column    Non-Null Count  Dtype  \n",
            "---  ------    --------------  -----  \n",
            " 0   age       1025 non-null   int64  \n",
            " 1   sex       1025 non-null   int64  \n",
            " 2   cp        1025 non-null   int64  \n",
            " 3   trestbps  1025 non-null   int64  \n",
            " 4   chol      1025 non-null   int64  \n",
            " 5   fbs       1025 non-null   int64  \n",
            " 6   restecg   1025 non-null   int64  \n",
            " 7   thalach   1025 non-null   int64  \n",
            " 8   exang     1025 non-null   int64  \n",
            " 9   oldpeak   1025 non-null   float64\n",
            " 10  slope     1025 non-null   int64  \n",
            " 11  ca        1025 non-null   int64  \n",
            " 12  thal      1025 non-null   int64  \n",
            "dtypes: float64(1), int64(12)\n",
            "memory usage: 104.2 KB\n"
          ]
        }
      ]
    },
    {
      "cell_type": "code",
      "source": [
        "import math\n",
        "import seaborn as sns\n",
        "import matplotlib.pyplot as plt\n",
        "\n",
        "def sigmoid(x):\n",
        "    return round(1/(1+np.exp(-x)),4)\n",
        "\n",
        "def predict(w,single_data):\n",
        "    temp=0\n",
        "    for i in range(len(w)-1):\n",
        "        temp+= w[i]* single_data[i]\n",
        "    temp+=w[13]\n",
        "    p=sigmoid(temp)\n",
        "    return p\n",
        "\n",
        "def min_max_scale(dataset):\n",
        "  for i in range(len(dataset.T)):\n",
        "    z=np.zeros(len(dataset.T))\n",
        "    min_x,max_x=min(dataset.T[i]),max(dataset.T[i])\n",
        "    for j in range(len(dataset.T[i])):\n",
        "       dataset.T[i][j] = float(( dataset.T[i][j] - min_x) /( max_x - min_x) )\n",
        "  \n",
        "                   \n",
        "def gradient_descent(w,p,y,lr,x):\n",
        "    for i in range(len(p)):\n",
        "        for j in range(len(w)-1):\n",
        "            w[j]-=(p[i]-y[i])*x[i][j]*lr\n",
        "        w[13] -= (p[i]-y[i])*lr \n",
        "    return w    \n",
        "\n",
        "def Loss_cal(p,y):\n",
        "    Loss=0\n",
        "    for i in range(len(y)):\n",
        "        Loss += y[i] * math.log( p[i] ) + (1 - y[i]) * math.log( 1 - p[i])\n",
        "    return round(Loss/len(y),4)    \n",
        "\n",
        "def Confusion_matrix(result):\n",
        "    print(\"\\n--Confusion matrix--\\n\\t\\t Actual Value \\n\\t\\t Positive \\t Negative \")\n",
        "    print(\"Pred Positve\\t\",result[1],'\\t\\t',result[3])\n",
        "    print(\"Pred Negative\\t\",result[4],'\\t\\t',result[2])\n",
        "\n",
        "def Visualized_matrix(result):\n",
        "  plt.figure(figsize=(7,5))\n",
        "  sns.set(font_scale=0.9)\n",
        "  res=[ [result[1],result[3]] , [result[4],result[2]] ]\n",
        "  ax=sns.heatmap(res,annot=True, annot_kws={\"size\": 13},fmt='g',\n",
        "  xticklabels=['Positive','Negative'],yticklabels=['Positive','Negative']) \n",
        "  ax.set(xlabel='True Value',ylabel='Predict value')   \n",
        "\n",
        "def bias_barplot(y):\n",
        "  plt.figure(figsize=(4,5))\n",
        "  ax=sns.barplot( x=[0,1],y=[np.count_nonzero(y==0),np.count_nonzero(y==1)])\n",
        "\n",
        "def Training(x_train,y_train):\n",
        "  w=np.ones(14)\n",
        "  lr=0.002\n",
        "  step,max_step=0,6000\n",
        "  for step in range(max_step):\n",
        "    p=[]\n",
        "    for record in x_train:\n",
        "      p.append(predict(w,record))\n",
        "    w=gradient_descent(w,p,y_train,lr,x_train)\n",
        "    if (step%500==0):\n",
        "      print('step',step,\"Avg Loss\",Loss_cal(p,y_train))\n",
        "  return w\n",
        "\n",
        "def evaluation(p,y):\n",
        "    #True+, True-, False+, False-\n",
        "    tp,tn,fp,fn=0,0,0,0\n",
        "    for i in range(len(y)):\n",
        "        if round(p[i])==y[i]:\n",
        "            if y[i]==1:\n",
        "                tp+=1\n",
        "            else:\n",
        "                tn+=1\n",
        "        else:\n",
        "            if round(p[i])==0:\n",
        "                fn+=1\n",
        "            else:\n",
        "                fp+=1\n",
        "    return round( (tp+tn)/ (tp+tn+fn+fp),5),tp,tn,fp,fn       \n"
      ],
      "metadata": {
        "id": "VlH-5easqNPz"
      },
      "execution_count": 69,
      "outputs": []
    },
    {
      "cell_type": "code",
      "source": [
        "import numpy as np\n",
        "from sklearn.model_selection import train_test_split\n",
        "\n",
        "X_train,X_val,y_train,y_val=train_test_split(file,y,test_size=0.3,random_state=0)\n",
        "y_train.value_counts()\n",
        "#363 for positive value, 354 for negative value\n",
        "\n",
        "#switch to numpy for easier handling\n",
        "\n",
        "combine=[X_train,X_val,y_train,y_val]\n",
        "X_train,X_val,y_train,y_val=[dts.to_numpy() for dts in combine]\n",
        "\n",
        "\n",
        "min_max_scale(X_train)\n",
        "\n",
        "#training    \n",
        "w=Training(X_train,y_train)\n",
        "print(w)  \n",
        "\n",
        "print('Number of appearance: 0:',np.count_nonzero(y_train==0),'\\t1:',np.count_nonzero(y_train==1))\n",
        "bias_barplot(y_train)\n",
        "#normalized"
      ],
      "metadata": {
        "colab": {
          "base_uri": "https://localhost:8080/",
          "height": 600
        },
        "id": "jZt_7N_4qSBQ",
        "outputId": "40e32026-ad2f-4e66-eea3-97eef7345643"
      },
      "execution_count": 67,
      "outputs": [
        {
          "output_type": "stream",
          "name": "stdout",
          "text": [
            "step 0 Avg Loss -1.6476\n",
            "step 500 Avg Loss -0.3657\n",
            "step 1000 Avg Loss -0.3637\n",
            "step 1500 Avg Loss -0.3634\n",
            "step 2000 Avg Loss -0.3633\n",
            "step 2500 Avg Loss -0.3633\n",
            "step 3000 Avg Loss -0.3633\n",
            "step 3500 Avg Loss -0.3633\n",
            "step 4000 Avg Loss -0.3633\n",
            "step 4500 Avg Loss -0.3633\n",
            "step 5000 Avg Loss -0.3633\n",
            "step 5500 Avg Loss -0.3633\n",
            "[-0.75117955 -1.91420025  2.40327889 -1.63007404 -2.33869407  0.09742833\n",
            "  0.96505315  2.82818153 -1.06379009 -3.61467209  0.78389879 -2.77499806\n",
            " -2.83399091  3.25373174]\n",
            "Number of appearance: 0: 354 \t1: 363\n"
          ]
        },
        {
          "output_type": "display_data",
          "data": {
            "text/plain": [
              "<Figure size 288x360 with 1 Axes>"
            ],
            "image/png": "[encoded data removed]"
          },
          "metadata": {}
        }
      ]
    },
    {
      "cell_type": "code",
      "source": [
        "#normalized test value\n",
        "min_max_scale(X_val)\n",
        "\n",
        "p_val=np.zeros(len(y_val))\n",
        "#predict on validtion data\n",
        "for i in range(len(y_val)):\n",
        "    p_val[i]=predict(w,X_val[i])\n",
        "\n",
        "#result of prediction\n",
        "result=evaluation(p_val,y_val)    \n",
        "\n",
        "print('accuracy:',result[0])\n",
        "print('Avg Loss:',Loss_cal(p_val,y_val))\n",
        "print('-'*10)\n",
        "print('CONFUSION MATRIX')\n",
        "Visualized_matrix(result)\n",
        "\n",
        "#result tp:150, tn: 117, Fp: 28, Fn: 13"
      ],
      "metadata": {
        "colab": {
          "base_uri": "https://localhost:8080/",
          "height": 405
        },
        "id": "2pyax0awqSdk",
        "outputId": "ee0468c7-bcf4-4ec7-fb37-b3fed950b981"
      },
      "execution_count": 68,
      "outputs": [
        {
          "output_type": "stream",
          "name": "stdout",
          "text": [
            "accuracy: 0.86688\n",
            "Avg Loss: -0.326\n",
            "----------\n",
            "CONFUSION MATRIX\n"
          ]
        },
        {
          "output_type": "display_data",
          "data": {
            "text/plain": [
              "<Figure size 504x360 with 2 Axes>"
            ],
            "image/png": "[encoded data removed]"
          },
          "metadata": {}
        }
      ]
    },
    {
      "cell_type": "markdown",
      "source": [
        "The task is to use only 1/3 of the '0' in the training dataset to see how the bias affect the result."
      ],
      "metadata": {
        "id": "XRwe0_joq5cW"
      }
    },
    {
      "cell_type": "code",
      "source": [
        "#random pick the value n drop em\n",
        "from random import random\n",
        "#reset the training set, random_state is use so it should stay the same\n",
        "X_train,X_val,y_train,y_val=train_test_split(file,y,test_size=0.3,random_state=0) \n",
        "\n",
        "#to numpy for easier calculation\n",
        "combine=[X_train,X_val,y_train,y_val]\n",
        "X_train,X_val,y_train,y_val=[dts.to_numpy() for dts in combine]\n",
        "\n",
        "to_drop=[]\n",
        "for i,value in enumerate(y_train):\n",
        "    if value==0 and random()>0.3:\n",
        "        to_drop.append(i)\n",
        "\n",
        "#Before and After deleting      \n",
        "print('Before deleted\\nNumber of appearance: 0:',np.count_nonzero(y_train==0),'\\t1:',np.count_nonzero(y_train==1))        \n",
        "y_train=np.delete(y_train,to_drop,axis=0)      \n",
        "X_train=np.delete(X_train,to_drop,axis=0)   \n",
        "print('After deleted\\nNumber of appearance: 0:',np.count_nonzero(y_train==0),'\\t1:',np.count_nonzero(y_train==1))\n",
        "\n",
        "bias_barplot(y_train)\n"
      ],
      "metadata": {
        "colab": {
          "base_uri": "https://localhost:8080/",
          "height": 391
        },
        "id": "Z7jUiPMqqS4F",
        "outputId": "39d2a453-4464-4783-9726-38205662a41b"
      },
      "execution_count": 51,
      "outputs": [
        {
          "output_type": "stream",
          "name": "stdout",
          "text": [
            "Before deleted\n",
            "Number of appearance: 0: 354 \t1: 363\n",
            "After deleted\n",
            "Number of appearance: 0: 113 \t1: 363\n"
          ]
        },
        {
          "output_type": "display_data",
          "data": {
            "text/plain": [
              "<Figure size 288x360 with 1 Axes>"
            ],
            "image/png": "[encoded data removed]"
          },
          "metadata": {}
        }
      ]
    },
    {
      "cell_type": "code",
      "source": [
        "#normalized\n",
        "min_max_scale( X_train )\n",
        "\n",
        "#training    \n",
        "w=Training(X_train,y_train)\n",
        "\n",
        "#normalize the val \n",
        "min_max_scale( X_val )\n",
        "\n",
        "p_val=np.zeros(len(y_val))\n",
        "#predict on validtion data\n",
        "for i in range(len(y_val)):\n",
        "    p_val[i]=predict(w,X_val[i])\n",
        "\n",
        "#result of prediction\n",
        "result=evaluation(p_val,y_val)  \n",
        "\n",
        "#result of prediction\n",
        "print('accuracy:',result[0])\n",
        "print('Avg Loss:',Loss_cal(p_val,y_val))\n",
        "print('-'*10)\n",
        "print('CONFUSION MATRIX')\n",
        "Visualized_matrix(result)\n",
        "\n",
        "#result tp:156, tn: 95, FP: 50, Fn: 7"
      ],
      "metadata": {
        "colab": {
          "base_uri": "https://localhost:8080/",
          "height": 648
        },
        "id": "cJBkmrApqTRq",
        "outputId": "220c3c01-2c71-484d-b432-3449af7f4fbe"
      },
      "execution_count": 52,
      "outputs": [
        {
          "output_type": "stream",
          "name": "stdout",
          "text": [
            "step 0 Avg Loss -1.5642\n",
            "step 500 Avg Loss -0.3183\n",
            "step 1000 Avg Loss -0.3159\n",
            "step 1500 Avg Loss -0.3155\n",
            "step 2000 Avg Loss -0.3154\n",
            "step 2500 Avg Loss -0.3153\n",
            "step 3000 Avg Loss -0.3153\n",
            "step 3500 Avg Loss -0.3153\n",
            "step 4000 Avg Loss -0.3153\n",
            "step 4500 Avg Loss -0.3153\n",
            "step 5000 Avg Loss -0.3153\n",
            "step 5500 Avg Loss -0.3153\n",
            "step 6000 Avg Loss -0.3153\n",
            "step 6500 Avg Loss -0.3153\n",
            "accuracy: 0.82468\n",
            "Avg Loss: -0.3778\n",
            "----------\n",
            "CONFUSION MATRIX\n"
          ]
        },
        {
          "output_type": "display_data",
          "data": {
            "text/plain": [
              "<Figure size 504x360 with 2 Axes>"
            ],
            "image/png": "[encoded data removed]"
          },
          "metadata": {}
        }
      ]
    },
    {
      "cell_type": "markdown",
      "source": [
        "Seeing that there is now some bias in the result, the solution is to dulicate what remaining of the '0' value to counter-balance"
      ],
      "metadata": {
        "id": "y0jqnaB7yphP"
      }
    },
    {
      "cell_type": "code",
      "source": [
        "#reset the dataset to prevent any problem\n",
        "X_train,X_val,y_train,y_val=train_test_split(file,y,test_size=0.3,random_state=0) \n",
        "\n",
        "#to numpy for easier calculation\n",
        "combine=[X_train,X_val,y_train,y_val]\n",
        "X_train,X_val,y_train,y_val=[dts.to_numpy() for dts in combine]\n",
        "\n",
        "#delete the said element\n",
        "y_train=np.delete(y_train,to_drop,axis=0)      \n",
        "X_train=np.delete(X_train,to_drop,axis=0)\n",
        "\n",
        "print('Before added\\nNumber of appearance: 0:',np.count_nonzero(y_train==0),'\\t1:',np.count_nonzero(y_train==1))\n",
        "\n",
        "#duplicate\n",
        "u=len(y_train)\n",
        "for i in range(u):\n",
        "  if y_train[i]==0:\n",
        "    for j in range(2):\n",
        "      y_train=np.append(y_train,[ y_train[i] ])\n",
        "      X_train=np.append(X_train,[ X_train[i] ],axis=0)\n",
        "print('After added\\nNumber of appearance: 0:',np.count_nonzero(y_train==0),'\\t1:',np.count_nonzero(y_train==1))\n",
        "bias_barplot(y_train)\n"
      ],
      "metadata": {
        "colab": {
          "base_uri": "https://localhost:8080/",
          "height": 391
        },
        "id": "hw8KcJXkJPj4",
        "outputId": "133bb575-07d6-4ab7-8580-9f6b93da3fc8"
      },
      "execution_count": 53,
      "outputs": [
        {
          "output_type": "stream",
          "name": "stdout",
          "text": [
            "Before added\n",
            "Number of appearance: 0: 113 \t1: 363\n",
            "After added\n",
            "Number of appearance: 0: 339 \t1: 363\n"
          ]
        },
        {
          "output_type": "display_data",
          "data": {
            "text/plain": [
              "<Figure size 288x360 with 1 Axes>"
            ],
            "image/png": "[encoded data removed]"
          },
          "metadata": {}
        }
      ]
    },
    {
      "cell_type": "code",
      "source": [
        "min_max_scale( X_train )\n",
        "\n",
        "#model\n",
        "w=Training(X_train,y_train)\n",
        "\n",
        "#normalize the val \n",
        "min_max_scale( X_val )\n",
        "\n",
        "p_val=np.zeros(len(y_val))\n",
        "#predict on validtion data\n",
        "for i in range(len(y_val)):\n",
        "    p_val[i]=predict(w,X_val[i])\n",
        "\n",
        "#result of prediction\n",
        "result=evaluation(p_val,y_val)      \n",
        "\n",
        "#result of prediction\n",
        "print('accuracy:',result[0])\n",
        "print('Avg Loss:',Loss_cal(p_val,y_val))\n",
        "print('-'*10)\n",
        "print('CONFUSION MATRIX')\n",
        "Visualized_matrix(result)\n",
        "\n",
        "#result tp:150, tn: 117, Fp: 28, Fn: 13"
      ],
      "metadata": {
        "colab": {
          "base_uri": "https://localhost:8080/",
          "height": 648
        },
        "id": "MlwW95XxqT87",
        "outputId": "e21c10f7-d9ba-4535-a401-8aac837b0588"
      },
      "execution_count": 54,
      "outputs": [
        {
          "output_type": "stream",
          "name": "stdout",
          "text": [
            "step 0 Avg Loss -3.1778\n",
            "step 500 Avg Loss -0.3977\n",
            "step 1000 Avg Loss -0.3968\n",
            "step 1500 Avg Loss -0.3967\n",
            "step 2000 Avg Loss -0.3967\n",
            "step 2500 Avg Loss -0.3967\n",
            "step 3000 Avg Loss -0.3967\n",
            "step 3500 Avg Loss -0.3967\n",
            "step 4000 Avg Loss -0.3967\n",
            "step 4500 Avg Loss -0.3967\n",
            "step 5000 Avg Loss -0.3967\n",
            "step 5500 Avg Loss -0.3967\n",
            "step 6000 Avg Loss -0.3967\n",
            "step 6500 Avg Loss -0.3967\n",
            "accuracy: 0.8474\n",
            "Avg Loss: -0.3303\n",
            "----------\n",
            "CONFUSION MATRIX\n"
          ]
        },
        {
          "output_type": "display_data",
          "data": {
            "text/plain": [
              "<Figure size 504x360 with 2 Axes>"
            ],
            "image/png": "[encoded data removed]"
          },
          "metadata": {}
        }
      ]
    },
    {
      "cell_type": "code",
      "source": [
        "print('Number of appearance: 0:',np.count_nonzero(y_val==0),'\\t1:',np.count_nonzero(y_val==1))\n",
        "bias_barplot(y_val)"
      ],
      "metadata": {
        "colab": {
          "base_uri": "https://localhost:8080/",
          "height": 339
        },
        "id": "MVdrlzNEJL71",
        "outputId": "aadd6fca-114b-4b10-8389-e45e539308e8"
      },
      "execution_count": 56,
      "outputs": [
        {
          "output_type": "stream",
          "name": "stdout",
          "text": [
            "Number of appearance: 0: 145 \t1: 163\n"
          ]
        },
        {
          "output_type": "display_data",
          "data": {
            "text/plain": [
              "<Figure size 288x360 with 1 Axes>"
            ],
            "image/png": "[encoded data removed]"
          },
          "metadata": {}
        }
      ]
    }
  ]
}