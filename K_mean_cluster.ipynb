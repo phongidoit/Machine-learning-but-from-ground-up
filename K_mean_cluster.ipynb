{
  "nbformat": 4,
  "nbformat_minor": 0,
  "metadata": {
    "colab": {
      "provenance": [],
      "collapsed_sections": [],
      "authorship_tag": "ABX9TyPzXMMMCD0bvkkrXR6YalhW",
      "include_colab_link": true
    },
    "kernelspec": {
      "name": "python3",
      "display_name": "Python 3"
    },
    "language_info": {
      "name": "python"
    }
  },
  "cells": [
    {
      "cell_type": "markdown",
      "metadata": {
        "id": "view-in-github",
        "colab_type": "text"
      },
      "source": [
        "<a href=\"https://colab.research.google.com/github/phongidoit/Machine-learning-but-from-ground-up/blob/main/K_mean_cluster.ipynb\" target=\"_parent\"><img src=\"https://colab.research.google.com/assets/colab-badge.svg\" alt=\"Open In Colab\"/></a>"
      ]
    },
    {
      "cell_type": "code",
      "execution_count": 76,
      "metadata": {
        "id": "LsYHQ2ugRBUt",
        "colab": {
          "base_uri": "https://localhost:8080/",
          "height": 354
        },
        "outputId": "8273dcbb-4331-4c2c-d6de-7995af93459e"
      },
      "outputs": [
        {
          "output_type": "stream",
          "name": "stdout",
          "text": [
            "[0 0 0 0 0 0 0 0 0 0]\n"
          ]
        },
        {
          "output_type": "stream",
          "name": "stderr",
          "text": [
            "/usr/local/lib/python3.7/dist-packages/seaborn/_decorators.py:43: FutureWarning: Pass the following variables as keyword args: x, y. From version 0.12, the only valid positional argument will be `data`, and passing other arguments without an explicit keyword will result in an error or misinterpretation.\n",
            "  FutureWarning\n"
          ]
        },
        {
          "output_type": "execute_result",
          "data": {
            "text/plain": [
              "<matplotlib.axes._subplots.AxesSubplot at 0x7f54f82ce9d0>"
            ]
          },
          "metadata": {},
          "execution_count": 76
        },
        {
          "output_type": "display_data",
          "data": {
            "text/plain": [
              "<Figure size 432x288 with 1 Axes>"
            ],
            "image/png": "[encoded data removed]"
          },
          "metadata": {
            "needs_background": "light"
          }
        }
      ],
      "source": [
        "import matplotlib.pyplot as plt\n",
        "import seaborn as sns\n",
        "import numpy as np\n",
        "\n",
        "\n",
        "x1= np.array([6, 11, 4, 5.5, 9, 4, 8, 13, 6, 12],dtype=float)\n",
        "y1= np.array([2, 6, 3, 9, 7, 8, 6.5, 4.5, 3.5, 7],dtype=float)\n",
        "\n",
        "coor=np.array([\n",
        "     [6, 2],\n",
        "     [11, 6],\n",
        "     [4, 3],\n",
        "     [5.5, 9],\n",
        "     [9, 7],\n",
        "     [4, 8],\n",
        "     [8, 6.5],\n",
        "     [13, 4.5],\n",
        "     [6, 3.5],\n",
        "     [12, 7] ], dtype=float)\n",
        "\n",
        "classification= np.zeros(coor.shape[0],dtype=int)\n",
        "print(classification)\n",
        "sns.scatterplot(coor.T[0],coor.T[1])\n"
      ]
    },
    {
      "cell_type": "code",
      "source": [
        "def distance_to_point(coor, coor_k,classification):\n",
        "  for i,point in enumerate(coor):\n",
        "    distance=[]\n",
        "    for centroid in coor_k:\n",
        "      distance.append( np.sqrt((point[0] - centroid[0] )**2 + (point[1] - centroid[1])**2) )\n",
        "    #print( distance )\n",
        "    classification[i] = distance.index(min(distance))\n",
        "    \n",
        "\n",
        "def update_k(coor,coor_k,classification):\n",
        "  k_x= np.zeros((coor_k.shape[0],3))\n",
        "  for i, point in enumerate(coor):\n",
        "    k_x[classification[i] ][0] += point[0]\n",
        "    k_x[classification[i] ][1] += point[1]\n",
        "    k_x[classification[i] ][2] += 1\n",
        "  \n",
        "  for i,centroid in enumerate(k_x):\n",
        "    if (centroid[2]==0):\n",
        "      continue\n",
        "    coor_k[i][0] = centroid[0]/centroid[2]\n",
        "    coor_k[i][1] = centroid[1]/centroid[2]\n",
        "  \n"
      ],
      "metadata": {
        "id": "-ePstfitN2VC"
      },
      "execution_count": 64,
      "outputs": []
    },
    {
      "cell_type": "code",
      "source": [
        "from random import randint\n",
        "\n",
        "k=4\n",
        "coor_k=np.zeros((k,2))\n",
        "for i,centroid in enumerate(coor_k):\n",
        "  opt=randint(0,len(coor)-1)\n",
        "  coor_k[i]=coor[opt]\n",
        "\n",
        "max_step=20\n",
        "for i in range(max_step):\n",
        "  distance_to_point(coor, coor_k, classification)\n",
        "  update_k(coor, coor_k, classification)\n",
        "\n",
        "print(coor_k)\n",
        "plt.figure(figsize=(8,8))\n",
        "sns.scatterplot(coor.T[0],coor.T[1],hue=classification)\n",
        "sns.scatterplot(coor_k.T[0],coor_k.T[1],marker=\"X\",s=100)  \n"
      ],
      "metadata": {
        "id": "aRNddH_bTSLf",
        "colab": {
          "base_uri": "https://localhost:8080/",
          "height": 659
        },
        "outputId": "cfb669ce-297f-4cb6-d2d7-da2a1dcbbb43"
      },
      "execution_count": 83,
      "outputs": [
        {
          "output_type": "stream",
          "name": "stdout",
          "text": [
            "[[ 5.33333333  2.83333333]\n",
            " [ 8.5         6.75      ]\n",
            " [12.          5.83333333]\n",
            " [ 4.75        8.5       ]]\n"
          ]
        },
        {
          "output_type": "stream",
          "name": "stderr",
          "text": [
            "/usr/local/lib/python3.7/dist-packages/seaborn/_decorators.py:43: FutureWarning: Pass the following variables as keyword args: x, y. From version 0.12, the only valid positional argument will be `data`, and passing other arguments without an explicit keyword will result in an error or misinterpretation.\n",
            "  FutureWarning\n",
            "/usr/local/lib/python3.7/dist-packages/seaborn/_decorators.py:43: FutureWarning: Pass the following variables as keyword args: x, y. From version 0.12, the only valid positional argument will be `data`, and passing other arguments without an explicit keyword will result in an error or misinterpretation.\n",
            "  FutureWarning\n"
          ]
        },
        {
          "output_type": "execute_result",
          "data": {
            "text/plain": [
              "<matplotlib.axes._subplots.AxesSubplot at 0x7f54f8088b10>"
            ]
          },
          "metadata": {},
          "execution_count": 83
        },
        {
          "output_type": "display_data",
          "data": {
            "text/plain": [
              "<Figure size 576x576 with 1 Axes>"
            ],
            "image/png": "[encoded data removed]"
          },
          "metadata": {
            "needs_background": "light"
          }
        }
      ]
    }
  ]
}